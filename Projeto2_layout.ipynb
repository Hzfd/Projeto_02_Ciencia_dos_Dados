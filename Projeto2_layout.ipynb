{
 "cells": [
  {
   "cell_type": "markdown",
   "metadata": {},
   "source": [
    "# Projeto 2 - Ciência dos Dados"
   ]
  },
  {
   "cell_type": "markdown",
   "metadata": {},
   "source": [
    "Nome: Fernando Bichuette Assumpção\n",
    "\n",
    "Nome: Hélio Zaia Franciscon"
   ]
  },
  {
   "cell_type": "markdown",
   "metadata": {},
   "source": [
    "___\n",
    "# Classificador automático Naive Bayers\n"
   ]
  },
  {
   "cell_type": "code",
   "execution_count": 1,
   "metadata": {
    "jupyter": {
     "outputs_hidden": true
    }
   },
   "outputs": [],
   "source": [
    "import math\n",
    "import pandas as pd\n",
    "\n"
   ]
  },
  {
   "cell_type": "code",
   "execution_count": null,
   "metadata": {},
   "outputs": [],
   "source": []
  },
  {
   "cell_type": "markdown",
   "metadata": {},
   "source": [
    "___\n",
    "### Proposta:\n",
    "\n",
    "Nossa proposta será classificar os tweets como relevantes positivos ou negativos, sendo os positivos falando bem da companhia Burguer King, popularmente conhecida como \"bk\".\n",
    "Para isso usaremos plavras-chave que serão usadas para classificar os tweets, sendo que, de acordo ou não com a presença dessas palavras-chave em um tweet, ele poderá ser classificado como positivo (falando bem do Burguer King), ou negativo (reclamando ou criticando o Burguer King)"
   ]
  },
  {
   "cell_type": "markdown",
   "metadata": {},
   "source": [
    "___\n",
    "### Montando o Classificador Naive-Bayes\n",
    "\n",
    "Considerando apenas as mensagens da planilha Treinamento, ensine  seu classificador."
   ]
  },
  {
   "cell_type": "markdown",
   "metadata": {},
   "source": [
    "Limpando o arquivo"
   ]
  },
  {
   "cell_type": "code",
   "execution_count": 2,
   "metadata": {
    "scrolled": false
   },
   "outputs": [
    {
     "data": {
      "text/html": [
       "<div>\n",
       "<style scoped>\n",
       "    .dataframe tbody tr th:only-of-type {\n",
       "        vertical-align: middle;\n",
       "    }\n",
       "\n",
       "    .dataframe tbody tr th {\n",
       "        vertical-align: top;\n",
       "    }\n",
       "\n",
       "    .dataframe thead th {\n",
       "        text-align: right;\n",
       "    }\n",
       "</style>\n",
       "<table border=\"1\" class=\"dataframe\">\n",
       "  <thead>\n",
       "    <tr style=\"text-align: right;\">\n",
       "      <th></th>\n",
       "      <th>palavras</th>\n",
       "    </tr>\n",
       "  </thead>\n",
       "  <tbody>\n",
       "    <tr>\n",
       "      <th>0</th>\n",
       "      <td>[comi, um, bk, antes, de, sair, da, barra, e, ...</td>\n",
       "    </tr>\n",
       "    <tr>\n",
       "      <th>1</th>\n",
       "      <td>[queria, uma, versao, de, poesia, acustica, 2,...</td>\n",
       "    </tr>\n",
       "    <tr>\n",
       "      <th>2</th>\n",
       "      <td>[o, quanto, eu, amo, o, bk, nao, ta, escrito]</td>\n",
       "    </tr>\n",
       "    <tr>\n",
       "      <th>3</th>\n",
       "      <td>[nolargjr, chinelasemalca, os, sanduiches, do,...</td>\n",
       "    </tr>\n",
       "    <tr>\n",
       "      <th>4</th>\n",
       "      <td>[yarara, impune, !, ttps//youtube/gstt, 5, db,...</td>\n",
       "    </tr>\n",
       "  </tbody>\n",
       "</table>\n",
       "</div>"
      ],
      "text/plain": [
       "                                            palavras\n",
       "0  [comi, um, bk, antes, de, sair, da, barra, e, ...\n",
       "1  [queria, uma, versao, de, poesia, acustica, 2,...\n",
       "2      [o, quanto, eu, amo, o, bk, nao, ta, escrito]\n",
       "3  [nolargjr, chinelasemalca, os, sanduiches, do,...\n",
       "4  [yarara, impune, !, ttps//youtube/gstt, 5, db,..."
      ]
     },
     "execution_count": 2,
     "metadata": {},
     "output_type": "execute_result"
    }
   ],
   "source": [
    "import emoji_list\n",
    "#importando os dados do excel pelo pandas\n",
    "dados=pd.read_excel(\"bk.xlsx\",'Teste')\n",
    "import re \n",
    "\n",
    "#fazendo a limpesa do arquivo\n",
    "def limpar_caracteres(tabela, titulo):\n",
    "    a = tabela[titulo]\n",
    "    a = a.str.lower()\n",
    "\n",
    "    itens = ['.', ':', ';', '\"', \"'\", '?', '(', ')', '[',']',',', '\\n', '\\t','@','?']\n",
    "    i2 = ['?', '!']\n",
    "    emojis = emoji_list.all_emoji\n",
    "    for emoji in emojis:\n",
    "        try:\n",
    "            a = a.str.replace(emoji,\" {} \".format(emoji) )\n",
    "        except:\n",
    "            pass\n",
    "    for e in itens:\n",
    "        a = a.str.replace(e,'')\n",
    "    for e in i2:\n",
    "        a = a.str.replace(e,' {} '.format(e))\n",
    "\n",
    "    a = a.str.replace('é','e')\n",
    "    a = a.str.replace('ê','e')\n",
    "    a = a.str.replace('á','a')\n",
    "    a = a.str.replace('ã','a')\n",
    "    a = a.str.replace('ô','o')\n",
    "    a = a.str.replace('ó','o')\n",
    "    a = a.str.replace('ú','u')\n",
    "    a = a.str.replace('ç','c')\n",
    "    a = a.str.replace('í','i')\n",
    "    a = a.str.replace('@','')\n",
    "    a = a.str.replace('?','')\n",
    "    a = a.str.replace(',','.')\n",
    "        \n",
    "    tabela[titulo] = a\n",
    "\n",
    "    return tabela\n",
    "titulo=\"Teste\"\n",
    "tabela=limpar_caracteres(dados,titulo)\n",
    "\n",
    "def split_tweet(tabela, titulo):\n",
    "    a = tabela[titulo].str.split(' ')\n",
    "\n",
    "    nova = pd.DataFrame()\n",
    "    nova['palavras'] = []\n",
    "\n",
    "    for lista in a:\n",
    "        for e in ['#','' , ' ', 'rt']:\n",
    "            while lista.count(e) != 0:\n",
    "                lista.remove(e)\n",
    "\n",
    "        for palavra in lista:\n",
    "            if '@' in palavra and palavra != '@bk':\n",
    "                lista.remove(palavra) \n",
    "            if palavra[:4] == 'http':\n",
    "                lista.remove(palavra)\n",
    "        nova = nova.append({'palavras': lista}, ignore_index=True)\n",
    "                \n",
    "    return nova\n",
    "nova=split_tweet(dados,titulo)\n",
    "\n",
    "def tabela_palavras(tabela):\n",
    "    a = tabela['palavras']\n",
    "    prob = pd.DataFrame()\n",
    "    prob['palavras'] = []\n",
    "    for lista in a:\n",
    "        for e in lista:\n",
    "            prob = prob.append({'palavras': e}, ignore_index=True)\n",
    "    \n",
    "    return prob['palavras']\n",
    "dados_palavras=tabela_palavras(nova)\n",
    "nova.head()"
   ]
  },
  {
   "cell_type": "code",
   "execution_count": 3,
   "metadata": {},
   "outputs": [
    {
     "data": {
      "text/plain": [
       "0     comi\n",
       "1       um\n",
       "2       bk\n",
       "3    antes\n",
       "4       de\n",
       "Name: palavras, dtype: object"
      ]
     },
     "execution_count": 3,
     "metadata": {},
     "output_type": "execute_result"
    }
   ],
   "source": [
    "#separando o database em palavras\n",
    "dados_palavras.head()"
   ]
  },
  {
   "cell_type": "code",
   "execution_count": 4,
   "metadata": {},
   "outputs": [
    {
     "data": {
      "text/plain": [
       "bk     165\n",
       "e      105\n",
       "de      86\n",
       "um      65\n",
       "que     62\n",
       "Name: palavras, dtype: int64"
      ]
     },
     "execution_count": 4,
     "metadata": {},
     "output_type": "execute_result"
    }
   ],
   "source": [
    "#contando quantas vezes cada palavra aparece\n",
    "palavras=dados_palavras.value_counts()\n",
    "palavras.head()"
   ]
  },
  {
   "cell_type": "code",
   "execution_count": 5,
   "metadata": {},
   "outputs": [],
   "source": [
    "prob = dados_palavras.value_counts(True)"
   ]
  },
  {
   "cell_type": "code",
   "execution_count": 6,
   "metadata": {},
   "outputs": [
    {
     "data": {
      "text/plain": [
       "0.05253104106972302"
      ]
     },
     "execution_count": 6,
     "metadata": {},
     "output_type": "execute_result"
    }
   ],
   "source": [
    "#probabilidade de aparecer a palavra \"bk\" ao se sortear uma plavra aleatoria do database\n",
    "prob['bk']"
   ]
  },
  {
   "cell_type": "code",
   "execution_count": 7,
   "metadata": {},
   "outputs": [
    {
     "data": {
      "text/plain": [
       "0.9999999999999999"
      ]
     },
     "execution_count": 7,
     "metadata": {},
     "output_type": "execute_result"
    }
   ],
   "source": [
    "#checando se o valor está coerente\n",
    "prob.sum()"
   ]
  },
  {
   "cell_type": "code",
   "execution_count": 8,
   "metadata": {},
   "outputs": [
    {
     "data": {
      "text/html": [
       "<div>\n",
       "<style scoped>\n",
       "    .dataframe tbody tr th:only-of-type {\n",
       "        vertical-align: middle;\n",
       "    }\n",
       "\n",
       "    .dataframe tbody tr th {\n",
       "        vertical-align: top;\n",
       "    }\n",
       "\n",
       "    .dataframe thead th {\n",
       "        text-align: right;\n",
       "    }\n",
       "</style>\n",
       "<table border=\"1\" class=\"dataframe\">\n",
       "  <thead>\n",
       "    <tr style=\"text-align: right;\">\n",
       "      <th></th>\n",
       "      <th>Teste</th>\n",
       "      <th>Relevante/Irrelevante</th>\n",
       "    </tr>\n",
       "  </thead>\n",
       "  <tbody>\n",
       "    <tr>\n",
       "      <th>0</th>\n",
       "      <td>comi um bk antes de sair da barra e agr to jan...</td>\n",
       "      <td>1</td>\n",
       "    </tr>\n",
       "    <tr>\n",
       "      <th>3</th>\n",
       "      <td>nolargjr chinelasemalca os sanduiches do vikin...</td>\n",
       "      <td>1</td>\n",
       "    </tr>\n",
       "    <tr>\n",
       "      <th>5</th>\n",
       "      <td>e que o bk ta fazendo lanche veggie com hambur...</td>\n",
       "      <td>1</td>\n",
       "    </tr>\n",
       "    <tr>\n",
       "      <th>6</th>\n",
       "      <td>o novo lanche do bk foi filmado aonde eu traba...</td>\n",
       "      <td>1</td>\n",
       "    </tr>\n",
       "    <tr>\n",
       "      <th>11</th>\n",
       "      <td>quero muito um bk de frango vou chorar</td>\n",
       "      <td>1</td>\n",
       "    </tr>\n",
       "  </tbody>\n",
       "</table>\n",
       "</div>"
      ],
      "text/plain": [
       "                                                Teste  Relevante/Irrelevante\n",
       "0   comi um bk antes de sair da barra e agr to jan...                      1\n",
       "3   nolargjr chinelasemalca os sanduiches do vikin...                      1\n",
       "5   e que o bk ta fazendo lanche veggie com hambur...                      1\n",
       "6   o novo lanche do bk foi filmado aonde eu traba...                      1\n",
       "11             quero muito um bk de frango vou chorar                      1"
      ]
     },
     "execution_count": 8,
     "metadata": {},
     "output_type": "execute_result"
    }
   ],
   "source": [
    "#definido uma tabela de comentarios relevantes\n",
    "relevante=dados.loc[(dados['Relevante/Irrelevante'])==1]\n",
    "relevante.head()"
   ]
  },
  {
   "cell_type": "code",
   "execution_count": 9,
   "metadata": {},
   "outputs": [
    {
     "data": {
      "text/html": [
       "<div>\n",
       "<style scoped>\n",
       "    .dataframe tbody tr th:only-of-type {\n",
       "        vertical-align: middle;\n",
       "    }\n",
       "\n",
       "    .dataframe tbody tr th {\n",
       "        vertical-align: top;\n",
       "    }\n",
       "\n",
       "    .dataframe thead th {\n",
       "        text-align: right;\n",
       "    }\n",
       "</style>\n",
       "<table border=\"1\" class=\"dataframe\">\n",
       "  <thead>\n",
       "    <tr style=\"text-align: right;\">\n",
       "      <th></th>\n",
       "      <th>Teste</th>\n",
       "      <th>Relevante/Irrelevante</th>\n",
       "    </tr>\n",
       "  </thead>\n",
       "  <tbody>\n",
       "    <tr>\n",
       "      <th>1</th>\n",
       "      <td>queria uma versao de poesia acustica  2  so co...</td>\n",
       "      <td>0</td>\n",
       "    </tr>\n",
       "    <tr>\n",
       "      <th>2</th>\n",
       "      <td>o quanto eu amo o bk nao ta escrito</td>\n",
       "      <td>0</td>\n",
       "    </tr>\n",
       "    <tr>\n",
       "      <th>4</th>\n",
       "      <td>yarara impune !  ttps//youtube/gstt 5 db 9 l-u</td>\n",
       "      <td>0</td>\n",
       "    </tr>\n",
       "    <tr>\n",
       "      <th>7</th>\n",
       "      <td>jairbolsonaro edub_bk joofelipem vai tomar no ...</td>\n",
       "      <td>0</td>\n",
       "    </tr>\n",
       "    <tr>\n",
       "      <th>8</th>\n",
       "      <td>babebiburra naosejavagaba bk mandou bjs</td>\n",
       "      <td>0</td>\n",
       "    </tr>\n",
       "  </tbody>\n",
       "</table>\n",
       "</div>"
      ],
      "text/plain": [
       "                                               Teste  Relevante/Irrelevante\n",
       "1  queria uma versao de poesia acustica  2  so co...                      0\n",
       "2                o quanto eu amo o bk nao ta escrito                      0\n",
       "4     yarara impune !  ttps//youtube/gstt 5 db 9 l-u                      0\n",
       "7  jairbolsonaro edub_bk joofelipem vai tomar no ...                      0\n",
       "8            babebiburra naosejavagaba bk mandou bjs                      0"
      ]
     },
     "execution_count": 9,
     "metadata": {},
     "output_type": "execute_result"
    }
   ],
   "source": [
    "#definindo uma tabela de comentarios irrelevantes\n",
    "irrelevante=dados.loc[(dados['Relevante/Irrelevante'])==0]\n",
    "irrelevante.head()"
   ]
  },
  {
   "cell_type": "code",
   "execution_count": 10,
   "metadata": {},
   "outputs": [
    {
     "data": {
      "text/html": [
       "<div>\n",
       "<style scoped>\n",
       "    .dataframe tbody tr th:only-of-type {\n",
       "        vertical-align: middle;\n",
       "    }\n",
       "\n",
       "    .dataframe tbody tr th {\n",
       "        vertical-align: top;\n",
       "    }\n",
       "\n",
       "    .dataframe thead th {\n",
       "        text-align: right;\n",
       "    }\n",
       "</style>\n",
       "<table border=\"1\" class=\"dataframe\">\n",
       "  <thead>\n",
       "    <tr style=\"text-align: right;\">\n",
       "      <th></th>\n",
       "      <th>palavras</th>\n",
       "    </tr>\n",
       "  </thead>\n",
       "  <tbody>\n",
       "    <tr>\n",
       "      <th>0</th>\n",
       "      <td>[comi, um, bk, antes, de, sair, da, barra, e, ...</td>\n",
       "    </tr>\n",
       "    <tr>\n",
       "      <th>1</th>\n",
       "      <td>[nolargjr, chinelasemalca, os, sanduiches, do,...</td>\n",
       "    </tr>\n",
       "    <tr>\n",
       "      <th>2</th>\n",
       "      <td>[e, que, o, bk, ta, fazendo, lanche, veggie, c...</td>\n",
       "    </tr>\n",
       "    <tr>\n",
       "      <th>3</th>\n",
       "      <td>[o, novo, lanche, do, bk, foi, filmado, aonde,...</td>\n",
       "    </tr>\n",
       "    <tr>\n",
       "      <th>4</th>\n",
       "      <td>[quero, muito, um, bk, de, frango, vou, chorar]</td>\n",
       "    </tr>\n",
       "  </tbody>\n",
       "</table>\n",
       "</div>"
      ],
      "text/plain": [
       "                                            palavras\n",
       "0  [comi, um, bk, antes, de, sair, da, barra, e, ...\n",
       "1  [nolargjr, chinelasemalca, os, sanduiches, do,...\n",
       "2  [e, que, o, bk, ta, fazendo, lanche, veggie, c...\n",
       "3  [o, novo, lanche, do, bk, foi, filmado, aonde,...\n",
       "4    [quero, muito, um, bk, de, frango, vou, chorar]"
      ]
     },
     "execution_count": 10,
     "metadata": {},
     "output_type": "execute_result"
    }
   ],
   "source": [
    "splited_relevante=split_tweet(relevante,titulo)\n",
    "splited_irrelevante=split_tweet(irrelevante,titulo)\n",
    "splited_relevante.head()"
   ]
  },
  {
   "cell_type": "code",
   "execution_count": 11,
   "metadata": {},
   "outputs": [
    {
     "data": {
      "text/html": [
       "<div>\n",
       "<style scoped>\n",
       "    .dataframe tbody tr th:only-of-type {\n",
       "        vertical-align: middle;\n",
       "    }\n",
       "\n",
       "    .dataframe tbody tr th {\n",
       "        vertical-align: top;\n",
       "    }\n",
       "\n",
       "    .dataframe thead th {\n",
       "        text-align: right;\n",
       "    }\n",
       "</style>\n",
       "<table border=\"1\" class=\"dataframe\">\n",
       "  <thead>\n",
       "    <tr style=\"text-align: right;\">\n",
       "      <th></th>\n",
       "      <th>Teste</th>\n",
       "    </tr>\n",
       "  </thead>\n",
       "  <tbody>\n",
       "    <tr>\n",
       "      <th>0</th>\n",
       "      <td>comi um bk antes de sair da barra e agr to jan...</td>\n",
       "    </tr>\n",
       "    <tr>\n",
       "      <th>3</th>\n",
       "      <td>nolargjr chinelasemalca os sanduiches do vikin...</td>\n",
       "    </tr>\n",
       "    <tr>\n",
       "      <th>5</th>\n",
       "      <td>e que o bk ta fazendo lanche veggie com hambur...</td>\n",
       "    </tr>\n",
       "    <tr>\n",
       "      <th>6</th>\n",
       "      <td>o novo lanche do bk foi filmado aonde eu traba...</td>\n",
       "    </tr>\n",
       "    <tr>\n",
       "      <th>11</th>\n",
       "      <td>quero muito um bk de frango vou chorar</td>\n",
       "    </tr>\n",
       "  </tbody>\n",
       "</table>\n",
       "</div>"
      ],
      "text/plain": [
       "                                                Teste\n",
       "0   comi um bk antes de sair da barra e agr to jan...\n",
       "3   nolargjr chinelasemalca os sanduiches do vikin...\n",
       "5   e que o bk ta fazendo lanche veggie com hambur...\n",
       "6   o novo lanche do bk foi filmado aonde eu traba...\n",
       "11             quero muito um bk de frango vou chorar"
      ]
     },
     "execution_count": 11,
     "metadata": {},
     "output_type": "execute_result"
    }
   ],
   "source": [
    "#retrando a coluna do index \"Relevante/Irrelevante\"\n",
    "relevancia_relevante=relevante.iloc[0:,0:1]\n",
    "relevancia_irrelevante=irrelevante.iloc[0:,0:1]\n",
    "relevancia_relevante.head()\n"
   ]
  },
  {
   "cell_type": "code",
   "execution_count": 12,
   "metadata": {},
   "outputs": [
    {
     "data": {
      "text/html": [
       "<div>\n",
       "<style scoped>\n",
       "    .dataframe tbody tr th:only-of-type {\n",
       "        vertical-align: middle;\n",
       "    }\n",
       "\n",
       "    .dataframe tbody tr th {\n",
       "        vertical-align: top;\n",
       "    }\n",
       "\n",
       "    .dataframe thead th {\n",
       "        text-align: right;\n",
       "    }\n",
       "</style>\n",
       "<table border=\"1\" class=\"dataframe\">\n",
       "  <thead>\n",
       "    <tr style=\"text-align: right;\">\n",
       "      <th></th>\n",
       "      <th>Teste</th>\n",
       "    </tr>\n",
       "  </thead>\n",
       "  <tbody>\n",
       "    <tr>\n",
       "      <th>1</th>\n",
       "      <td>queria uma versao de poesia acustica  2  so co...</td>\n",
       "    </tr>\n",
       "    <tr>\n",
       "      <th>2</th>\n",
       "      <td>o quanto eu amo o bk nao ta escrito</td>\n",
       "    </tr>\n",
       "    <tr>\n",
       "      <th>4</th>\n",
       "      <td>yarara impune !  ttps//youtube/gstt 5 db 9 l-u</td>\n",
       "    </tr>\n",
       "    <tr>\n",
       "      <th>7</th>\n",
       "      <td>jairbolsonaro edub_bk joofelipem vai tomar no ...</td>\n",
       "    </tr>\n",
       "    <tr>\n",
       "      <th>8</th>\n",
       "      <td>babebiburra naosejavagaba bk mandou bjs</td>\n",
       "    </tr>\n",
       "  </tbody>\n",
       "</table>\n",
       "</div>"
      ],
      "text/plain": [
       "                                               Teste\n",
       "1  queria uma versao de poesia acustica  2  so co...\n",
       "2                o quanto eu amo o bk nao ta escrito\n",
       "4     yarara impune !  ttps//youtube/gstt 5 db 9 l-u\n",
       "7  jairbolsonaro edub_bk joofelipem vai tomar no ...\n",
       "8            babebiburra naosejavagaba bk mandou bjs"
      ]
     },
     "execution_count": 12,
     "metadata": {},
     "output_type": "execute_result"
    }
   ],
   "source": [
    "relevancia_irrelevante.head()"
   ]
  },
  {
   "cell_type": "code",
   "execution_count": 13,
   "metadata": {},
   "outputs": [
    {
     "data": {
      "text/plain": [
       "bk     111\n",
       "e       65\n",
       "um      50\n",
       "de      47\n",
       "que     43\n",
       "Name: palavras, dtype: int64"
      ]
     },
     "execution_count": 13,
     "metadata": {},
     "output_type": "execute_result"
    }
   ],
   "source": [
    "#calculando quantas vezes cada palavra aparece nos tweets relevantes\n",
    "var=split_tweet(relevancia_relevante,titulo)\n",
    "splited_relevante = tabela_palavras(var)\n",
    "prob_relevante = splited_relevante.value_counts(True)\n",
    "num_palavras_relevante = splited_relevante.value_counts()\n",
    "num_palavras_relevante.head()"
   ]
  },
  {
   "cell_type": "code",
   "execution_count": 14,
   "metadata": {},
   "outputs": [
    {
     "data": {
      "text/plain": [
       "bk     0.058054\n",
       "e      0.033996\n",
       "um     0.026151\n",
       "de     0.024582\n",
       "que    0.022490\n",
       "Name: palavras, dtype: float64"
      ]
     },
     "execution_count": 14,
     "metadata": {},
     "output_type": "execute_result"
    }
   ],
   "source": [
    "#calculando a probabilidade da ocorrencia de cada palavra no grupo dos tweets relevantes\n",
    "prob_relevante.head()"
   ]
  },
  {
   "cell_type": "code",
   "execution_count": 15,
   "metadata": {},
   "outputs": [
    {
     "data": {
      "text/plain": [
       "0.05805439330543933"
      ]
     },
     "execution_count": 15,
     "metadata": {},
     "output_type": "execute_result"
    }
   ],
   "source": [
    "#probabilidade de aparecer a palavra \"bk\" sorteado uma palavra aleatoria nos tweets relevantes\n",
    "prob_relevante['bk']"
   ]
  },
  {
   "cell_type": "code",
   "execution_count": 16,
   "metadata": {},
   "outputs": [
    {
     "data": {
      "text/plain": [
       "0.9999999999999998"
      ]
     },
     "execution_count": 16,
     "metadata": {},
     "output_type": "execute_result"
    }
   ],
   "source": [
    "#checando se a soma das palavras corresponde a 100%\n",
    "prob_relevante.sum()"
   ]
  },
  {
   "cell_type": "code",
   "execution_count": null,
   "metadata": {},
   "outputs": [],
   "source": []
  },
  {
   "cell_type": "code",
   "execution_count": null,
   "metadata": {},
   "outputs": [],
   "source": []
  },
  {
   "cell_type": "code",
   "execution_count": 17,
   "metadata": {},
   "outputs": [
    {
     "data": {
      "text/plain": [
       "bk    54\n",
       "e     40\n",
       "de    39\n",
       "do    29\n",
       "eu    21\n",
       "Name: palavras, dtype: int64"
      ]
     },
     "execution_count": 17,
     "metadata": {},
     "output_type": "execute_result"
    }
   ],
   "source": [
    "#Calculando a ocorrencia de cada palavra nos tweets irrelevantes\n",
    "var=split_tweet(relevancia_irrelevante,titulo)\n",
    "splited_irrelevante=tabela_palavras(var)\n",
    "prob_irrelevante = splited_irrelevante.value_counts(True) \n",
    "num_palavras_irrelevante = splited_irrelevante.value_counts()\n",
    "num_palavras_irrelevante.head()\n"
   ]
  },
  {
   "cell_type": "code",
   "execution_count": 18,
   "metadata": {},
   "outputs": [
    {
     "data": {
      "text/plain": [
       "bk    0.043938\n",
       "e     0.032547\n",
       "de    0.031733\n",
       "do    0.023596\n",
       "eu    0.017087\n",
       "Name: palavras, dtype: float64"
      ]
     },
     "execution_count": 18,
     "metadata": {},
     "output_type": "execute_result"
    }
   ],
   "source": [
    "#calculando a probabilidade de ocorrencia de cada palavra nos tweets irrelevantes\n",
    "prob_irrelevante.head()"
   ]
  },
  {
   "cell_type": "code",
   "execution_count": 19,
   "metadata": {},
   "outputs": [
    {
     "data": {
      "text/plain": [
       "0.043938161106590726"
      ]
     },
     "execution_count": 19,
     "metadata": {},
     "output_type": "execute_result"
    }
   ],
   "source": [
    "#calculando a probabilidade de ser sorteada a palavra \"bk\" dentro dos tweets irrelevantes\n",
    "prob_irrelevante[\"bk\"]"
   ]
  },
  {
   "cell_type": "code",
   "execution_count": 20,
   "metadata": {},
   "outputs": [
    {
     "data": {
      "text/plain": [
       "1.0"
      ]
     },
     "execution_count": 20,
     "metadata": {},
     "output_type": "execute_result"
    }
   ],
   "source": [
    "#checando se a soma corresponde a 100%\n",
    "prob_irrelevante.sum()"
   ]
  },
  {
   "cell_type": "code",
   "execution_count": 21,
   "metadata": {},
   "outputs": [
    {
     "data": {
      "text/plain": [
       "1    111\n",
       "0     89\n",
       "Name: Relevante/Irrelevante, dtype: int64"
      ]
     },
     "execution_count": 21,
     "metadata": {},
     "output_type": "execute_result"
    }
   ],
   "source": [
    "#conferindo quantos tweets relevantes e irrelevantes temos no database\n",
    "dados[\"Relevante/Irrelevante\"].value_counts()"
   ]
  },
  {
   "cell_type": "code",
   "execution_count": 22,
   "metadata": {},
   "outputs": [],
   "source": [
    "#calculando a quantidade total de palavras temos em nosso database\n",
    "tamanho=[]\n",
    "newnova=nova.iloc[0:,0]\n",
    "for t in newnova:\n",
    "    for b in t:\n",
    "        tamanho.append(b)\n"
   ]
  },
  {
   "cell_type": "code",
   "execution_count": 23,
   "metadata": {},
   "outputs": [
    {
     "data": {
      "text/html": [
       "<div>\n",
       "<style scoped>\n",
       "    .dataframe tbody tr th:only-of-type {\n",
       "        vertical-align: middle;\n",
       "    }\n",
       "\n",
       "    .dataframe tbody tr th {\n",
       "        vertical-align: top;\n",
       "    }\n",
       "\n",
       "    .dataframe thead th {\n",
       "        text-align: right;\n",
       "    }\n",
       "</style>\n",
       "<table border=\"1\" class=\"dataframe\">\n",
       "  <thead>\n",
       "    <tr style=\"text-align: right;\">\n",
       "      <th></th>\n",
       "      <th>palavras</th>\n",
       "    </tr>\n",
       "  </thead>\n",
       "  <tbody>\n",
       "    <tr>\n",
       "      <th>0</th>\n",
       "      <td>[comi, um, bk, antes, de, sair, da, barra, e, ...</td>\n",
       "    </tr>\n",
       "    <tr>\n",
       "      <th>1</th>\n",
       "      <td>[queria, uma, versao, de, poesia, acustica, 2,...</td>\n",
       "    </tr>\n",
       "    <tr>\n",
       "      <th>2</th>\n",
       "      <td>[o, quanto, eu, amo, o, bk, nao, ta, escrito]</td>\n",
       "    </tr>\n",
       "    <tr>\n",
       "      <th>3</th>\n",
       "      <td>[nolargjr, chinelasemalca, os, sanduiches, do,...</td>\n",
       "    </tr>\n",
       "    <tr>\n",
       "      <th>4</th>\n",
       "      <td>[yarara, impune, !, ttps//youtube/gstt, 5, db,...</td>\n",
       "    </tr>\n",
       "  </tbody>\n",
       "</table>\n",
       "</div>"
      ],
      "text/plain": [
       "                                            palavras\n",
       "0  [comi, um, bk, antes, de, sair, da, barra, e, ...\n",
       "1  [queria, uma, versao, de, poesia, acustica, 2,...\n",
       "2      [o, quanto, eu, amo, o, bk, nao, ta, escrito]\n",
       "3  [nolargjr, chinelasemalca, os, sanduiches, do,...\n",
       "4  [yarara, impune, !, ttps//youtube/gstt, 5, db,..."
      ]
     },
     "execution_count": 23,
     "metadata": {},
     "output_type": "execute_result"
    }
   ],
   "source": [
    "#usamos o \"nova\" pois ele é a variavel que contem todos os tweets, sendo cada um deles uma lista\n",
    "#onde as plavras compões os elementos, da seguinte forma:\n",
    "nova.head()"
   ]
  },
  {
   "cell_type": "code",
   "execution_count": 24,
   "metadata": {},
   "outputs": [],
   "source": [
    "#criando novas colunas para o database final\n",
    "nova[\"Classificacao Manual\"] = pd.Series(dados[\"Relevante/Irrelevante\"])\n",
    "nova[\"Classificacao_Naive\"] = pd.Series()\n",
    "nova[\"Resposta\"] = pd.Series()"
   ]
  },
  {
   "cell_type": "markdown",
   "metadata": {},
   "source": [
    "___\n",
    "### Suavização de Laplace"
   ]
  },
  {
   "cell_type": "code",
   "execution_count": 25,
   "metadata": {
    "scrolled": true
   },
   "outputs": [
    {
     "name": "stderr",
     "output_type": "stream",
     "text": [
      "C:\\Users\\helio\\Anaconda3\\lib\\site-packages\\ipykernel_launcher.py:36: SettingWithCopyWarning: \n",
      "A value is trying to be set on a copy of a slice from a DataFrame\n",
      "\n",
      "See the caveats in the documentation: http://pandas.pydata.org/pandas-docs/stable/indexing.html#indexing-view-versus-copy\n",
      "C:\\Users\\helio\\Anaconda3\\lib\\site-packages\\ipykernel_launcher.py:38: SettingWithCopyWarning: \n",
      "A value is trying to be set on a copy of a slice from a DataFrame\n",
      "\n",
      "See the caveats in the documentation: http://pandas.pydata.org/pandas-docs/stable/indexing.html#indexing-view-versus-copy\n",
      "C:\\Users\\helio\\Anaconda3\\lib\\site-packages\\pandas\\core\\indexing.py:190: SettingWithCopyWarning: \n",
      "A value is trying to be set on a copy of a slice from a DataFrame\n",
      "\n",
      "See the caveats in the documentation: http://pandas.pydata.org/pandas-docs/stable/indexing.html#indexing-view-versus-copy\n",
      "  self._setitem_with_indexer(indexer, value)\n",
      "C:\\Users\\helio\\Anaconda3\\lib\\site-packages\\ipykernel_launcher.py:44: SettingWithCopyWarning: \n",
      "A value is trying to be set on a copy of a slice from a DataFrame\n",
      "\n",
      "See the caveats in the documentation: http://pandas.pydata.org/pandas-docs/stable/indexing.html#indexing-view-versus-copy\n",
      "C:\\Users\\helio\\Anaconda3\\lib\\site-packages\\ipykernel_launcher.py:46: SettingWithCopyWarning: \n",
      "A value is trying to be set on a copy of a slice from a DataFrame\n",
      "\n",
      "See the caveats in the documentation: http://pandas.pydata.org/pandas-docs/stable/indexing.html#indexing-view-versus-copy\n",
      "C:\\Users\\helio\\Anaconda3\\lib\\site-packages\\ipykernel_launcher.py:40: SettingWithCopyWarning: \n",
      "A value is trying to be set on a copy of a slice from a DataFrame\n",
      "\n",
      "See the caveats in the documentation: http://pandas.pydata.org/pandas-docs/stable/indexing.html#indexing-view-versus-copy\n"
     ]
    }
   ],
   "source": [
    "#criando um contador para percorrer o database linha por linha\n",
    "a=0\n",
    "#criando as variaveis que serão usadas na suavização de Laplace\n",
    "total=len(tamanho)\n",
    "total_relevantes=len(num_palavras_relevante)\n",
    "total_irrelevantes=len(num_palavras_irrelevante)\n",
    "len_01=len(num_palavras_relevante)\n",
    "len_00=len(num_palavras_irrelevante)\n",
    "#fazendo a suavização de Laplace\n",
    "for valor in nova[\"palavras\"]:\n",
    "    alpha = 1\n",
    "    prob01 = 1\n",
    "    prob00 = 1\n",
    "    for val in valor:\n",
    "        #caso a palavra não exista no nosso database, terá seu valor alterado, para uma melhor \n",
    "        #classificação do Naive Bayers\n",
    "        if val not in num_palavras_relevante or val not in num_palavras_irrelevante:\n",
    "            sec01 = alpha\n",
    "            sec00 = alpha\n",
    "        \n",
    "        else:\n",
    "            sec00=num_palavras_irrelevante[val] + alpha\n",
    "            sec01=num_palavras_relevante[val] + alpha\n",
    "            \n",
    "            \n",
    "        if val in num_palavras_relevante:\n",
    "            prob01 *= (num_palavras_relevante[val] + alpha) / (total_relevantes + total*alpha)\n",
    "        else: \n",
    "            prob01 *= sec01/(len(num_palavras_relevante)+total*alpha)\n",
    "        \n",
    "        if val in num_palavras_irrelevante:   \n",
    "            prob00 *= (num_palavras_irrelevante[val] + alpha) / (total_irrelevantes + total*alpha)\n",
    "        else:\n",
    "            prob00 *= sec00/(len(num_palavras_irrelevante)+total*alpha)\n",
    "       \n",
    "    if prob01>prob00:\n",
    "        prob_x = 1\n",
    "        nova[\"Classificacao_Naive\"][a] = prob_x\n",
    "        if nova[\"Classificacao Manual\"][a] == prob_x:\n",
    "            nova[\"Resposta\"][a] = \"Positivo = True\"\n",
    "        elif nova[\"Classificacao Manual\"][a] != prob_x:\n",
    "            nova[\"Resposta\"][a] = \"Positivo = False\"\n",
    "            \n",
    "    elif prob01<prob00:\n",
    "        prob_x = 0\n",
    "        nova[\"Classificacao_Naive\"][a] = prob_x\n",
    "        if nova[\"Classificacao Manual\"][a] == prob_x:\n",
    "            nova[\"Resposta\"][a] =\"Negativo = True\"\n",
    "        elif nova[\"Classificacao Manual\"][a] != prob_x:\n",
    "            nova[\"Resposta\"][a] =\"Negativo = False\"\n",
    "    a+=1\n",
    "resultado=nova"
   ]
  },
  {
   "cell_type": "code",
   "execution_count": null,
   "metadata": {},
   "outputs": [],
   "source": []
  },
  {
   "cell_type": "code",
   "execution_count": null,
   "metadata": {},
   "outputs": [],
   "source": []
  },
  {
   "cell_type": "code",
   "execution_count": null,
   "metadata": {},
   "outputs": [],
   "source": []
  },
  {
   "cell_type": "markdown",
   "metadata": {},
   "source": [
    "\n",
    "___\n",
    "### Verificando a performance\n",
    "\n",
    "Agora você deve testar o seu classificador com a base de Testes."
   ]
  },
  {
   "cell_type": "markdown",
   "metadata": {},
   "source": [
    "___\n",
    "Na tabela a seguir temos, respectivamente, os tweets (quebrados em listas),\n",
    "a avaliação feita manualmente, a avaliação feita pelo Naive Byers e a comparação final, validando\n",
    "a classificação feita pelo progama como, sendo:\n",
    "___\n",
    "#### Positivo = True:\n",
    "Classificação correta de positivo, ou seja, tweet relevante\n",
    "___\n",
    "#### Negativo = True:\n",
    "Classificação correta de negatico, ou seja, tweet irrelevante\n",
    "___\n",
    "#### Positivo = False:\n",
    "Classificação errada de um tweet, ou seja, um tweet irrelevate foi tido como \n",
    "relevante pelo progama\n",
    "___\n",
    "#### Negativo = False:\n",
    "Classificação errada de um tweet, ou seja, um tweet relevante foi tido como irrelevante pelo progama\n"
   ]
  },
  {
   "cell_type": "code",
   "execution_count": 26,
   "metadata": {},
   "outputs": [
    {
     "data": {
      "text/html": [
       "<div>\n",
       "<style scoped>\n",
       "    .dataframe tbody tr th:only-of-type {\n",
       "        vertical-align: middle;\n",
       "    }\n",
       "\n",
       "    .dataframe tbody tr th {\n",
       "        vertical-align: top;\n",
       "    }\n",
       "\n",
       "    .dataframe thead th {\n",
       "        text-align: right;\n",
       "    }\n",
       "</style>\n",
       "<table border=\"1\" class=\"dataframe\">\n",
       "  <thead>\n",
       "    <tr style=\"text-align: right;\">\n",
       "      <th></th>\n",
       "      <th>palavras</th>\n",
       "      <th>Classificacao Manual</th>\n",
       "      <th>Classificacao_Naive</th>\n",
       "      <th>Resposta</th>\n",
       "    </tr>\n",
       "  </thead>\n",
       "  <tbody>\n",
       "    <tr>\n",
       "      <th>0</th>\n",
       "      <td>[comi, um, bk, antes, de, sair, da, barra, e, ...</td>\n",
       "      <td>1</td>\n",
       "      <td>1.0</td>\n",
       "      <td>Positivo = True</td>\n",
       "    </tr>\n",
       "    <tr>\n",
       "      <th>1</th>\n",
       "      <td>[queria, uma, versao, de, poesia, acustica, 2,...</td>\n",
       "      <td>0</td>\n",
       "      <td>0.0</td>\n",
       "      <td>Negativo = True</td>\n",
       "    </tr>\n",
       "    <tr>\n",
       "      <th>2</th>\n",
       "      <td>[o, quanto, eu, amo, o, bk, nao, ta, escrito]</td>\n",
       "      <td>0</td>\n",
       "      <td>1.0</td>\n",
       "      <td>Positivo = False</td>\n",
       "    </tr>\n",
       "    <tr>\n",
       "      <th>3</th>\n",
       "      <td>[nolargjr, chinelasemalca, os, sanduiches, do,...</td>\n",
       "      <td>1</td>\n",
       "      <td>1.0</td>\n",
       "      <td>Positivo = True</td>\n",
       "    </tr>\n",
       "    <tr>\n",
       "      <th>4</th>\n",
       "      <td>[yarara, impune, !, ttps//youtube/gstt, 5, db,...</td>\n",
       "      <td>0</td>\n",
       "      <td>0.0</td>\n",
       "      <td>Negativo = True</td>\n",
       "    </tr>\n",
       "    <tr>\n",
       "      <th>5</th>\n",
       "      <td>[e, que, o, bk, ta, fazendo, lanche, veggie, c...</td>\n",
       "      <td>1</td>\n",
       "      <td>1.0</td>\n",
       "      <td>Positivo = True</td>\n",
       "    </tr>\n",
       "    <tr>\n",
       "      <th>6</th>\n",
       "      <td>[o, novo, lanche, do, bk, foi, filmado, aonde,...</td>\n",
       "      <td>1</td>\n",
       "      <td>1.0</td>\n",
       "      <td>Positivo = True</td>\n",
       "    </tr>\n",
       "    <tr>\n",
       "      <th>7</th>\n",
       "      <td>[jairbolsonaro, edub_bk, joofelipem, vai, toma...</td>\n",
       "      <td>0</td>\n",
       "      <td>0.0</td>\n",
       "      <td>Negativo = True</td>\n",
       "    </tr>\n",
       "    <tr>\n",
       "      <th>8</th>\n",
       "      <td>[babebiburra, naosejavagaba, bk, mandou, bjs]</td>\n",
       "      <td>0</td>\n",
       "      <td>0.0</td>\n",
       "      <td>Negativo = True</td>\n",
       "    </tr>\n",
       "    <tr>\n",
       "      <th>9</th>\n",
       "      <td>[td, dia, eu, ouvindo, bk, planos, djonga, lea...</td>\n",
       "      <td>0</td>\n",
       "      <td>0.0</td>\n",
       "      <td>Negativo = True</td>\n",
       "    </tr>\n",
       "  </tbody>\n",
       "</table>\n",
       "</div>"
      ],
      "text/plain": [
       "                                            palavras  Classificacao Manual  \\\n",
       "0  [comi, um, bk, antes, de, sair, da, barra, e, ...                     1   \n",
       "1  [queria, uma, versao, de, poesia, acustica, 2,...                     0   \n",
       "2      [o, quanto, eu, amo, o, bk, nao, ta, escrito]                     0   \n",
       "3  [nolargjr, chinelasemalca, os, sanduiches, do,...                     1   \n",
       "4  [yarara, impune, !, ttps//youtube/gstt, 5, db,...                     0   \n",
       "5  [e, que, o, bk, ta, fazendo, lanche, veggie, c...                     1   \n",
       "6  [o, novo, lanche, do, bk, foi, filmado, aonde,...                     1   \n",
       "7  [jairbolsonaro, edub_bk, joofelipem, vai, toma...                     0   \n",
       "8      [babebiburra, naosejavagaba, bk, mandou, bjs]                     0   \n",
       "9  [td, dia, eu, ouvindo, bk, planos, djonga, lea...                     0   \n",
       "\n",
       "   Classificacao_Naive          Resposta  \n",
       "0                  1.0   Positivo = True  \n",
       "1                  0.0   Negativo = True  \n",
       "2                  1.0  Positivo = False  \n",
       "3                  1.0   Positivo = True  \n",
       "4                  0.0   Negativo = True  \n",
       "5                  1.0   Positivo = True  \n",
       "6                  1.0   Positivo = True  \n",
       "7                  0.0   Negativo = True  \n",
       "8                  0.0   Negativo = True  \n",
       "9                  0.0   Negativo = True  "
      ]
     },
     "execution_count": 26,
     "metadata": {},
     "output_type": "execute_result"
    }
   ],
   "source": [
    "resultado.head(10)"
   ]
  },
  {
   "cell_type": "code",
   "execution_count": null,
   "metadata": {},
   "outputs": [],
   "source": []
  },
  {
   "cell_type": "code",
   "execution_count": 27,
   "metadata": {},
   "outputs": [
    {
     "data": {
      "text/html": [
       "<div>\n",
       "<style scoped>\n",
       "    .dataframe tbody tr th:only-of-type {\n",
       "        vertical-align: middle;\n",
       "    }\n",
       "\n",
       "    .dataframe tbody tr th {\n",
       "        vertical-align: top;\n",
       "    }\n",
       "\n",
       "    .dataframe thead th {\n",
       "        text-align: right;\n",
       "    }\n",
       "</style>\n",
       "<table border=\"1\" class=\"dataframe\">\n",
       "  <thead>\n",
       "    <tr style=\"text-align: right;\">\n",
       "      <th>Classificacao_Naive</th>\n",
       "      <th>0.0</th>\n",
       "      <th>1.0</th>\n",
       "    </tr>\n",
       "    <tr>\n",
       "      <th>Classificacao Manual</th>\n",
       "      <th></th>\n",
       "      <th></th>\n",
       "    </tr>\n",
       "  </thead>\n",
       "  <tbody>\n",
       "    <tr>\n",
       "      <th>0</th>\n",
       "      <td>78</td>\n",
       "      <td>11</td>\n",
       "    </tr>\n",
       "    <tr>\n",
       "      <th>1</th>\n",
       "      <td>0</td>\n",
       "      <td>111</td>\n",
       "    </tr>\n",
       "  </tbody>\n",
       "</table>\n",
       "</div>"
      ],
      "text/plain": [
       "Classificacao_Naive   0.0  1.0\n",
       "Classificacao Manual          \n",
       "0                      78   11\n",
       "1                       0  111"
      ]
     },
     "execution_count": 27,
     "metadata": {},
     "output_type": "execute_result"
    }
   ],
   "source": [
    "#checando a diferença entre as classificações feitas à mão e as definidas pelo Naive Byers\n",
    "valid = pd.crosstab(resultado['Classificacao Manual'], resultado['Classificacao_Naive'])\n",
    "valid.head()"
   ]
  },
  {
   "cell_type": "code",
   "execution_count": 28,
   "metadata": {},
   "outputs": [
    {
     "name": "stdout",
     "output_type": "stream",
     "text": [
      "Positivo = True     55.5\n",
      "Negativo = True     39.0\n",
      "Positivo = False     5.5\n",
      "Name: Resposta, dtype: float64\n"
     ]
    }
   ],
   "source": [
    "resp = resultado[\"Resposta\"].value_counts(True)\n",
    "print(resp*100)"
   ]
  },
  {
   "cell_type": "code",
   "execution_count": 29,
   "metadata": {},
   "outputs": [
    {
     "data": {
      "text/plain": [
       "1.0"
      ]
     },
     "execution_count": 29,
     "metadata": {},
     "output_type": "execute_result"
    }
   ],
   "source": [
    "#checando se a soma das probabilidades corresponde a 100%\n",
    "resp.sum()"
   ]
  },
  {
   "cell_type": "code",
   "execution_count": null,
   "metadata": {},
   "outputs": [],
   "source": []
  },
  {
   "cell_type": "markdown",
   "metadata": {},
   "source": [
    "___\n",
    "### Concluindo"
   ]
  },
  {
   "cell_type": "markdown",
   "metadata": {},
   "source": [
    "Através da observação dos dados obtidos do classificador e de sua comparação com os dados classificados à mão, notamos que o progama obteve resultados notáveis, de forma que classificou apenas 5,5% dos tweets de maneira errada (classificando tweets irrelevantes como relevantes).\n",
    "\n",
    "Essa alta taxa de sucesso pode ser devida ao numero limitado de tweets a serem avaliados, ou seja, se houvessem mais tweets para serem avaliados, a taxa de sucesso poderia ser alterada, e teriamos mais dados para consolidar definitivamente nosso classificador Naive Byers. A alta taxa de sucesso obtida no classificador pode ocorrer por algum erro de código, porém, se for esse o caso, ressalto que revisei o código inúmeras vezes e não encontrei tal erro.\n",
    "\n",
    "A respeito da ausencia de falsos negativos, não há motivos explicitos para explicar tal fato, o que nos faz concluir que o classificador classificou corretamente a maioria dos tweets, de modo a não deixar falsos negativos e ao mesmo tempo, possuir uma baixa taxa (5,5%) de falsos positivos. Esse fato pode indicar uma pré-disposição do programa de classificar possíveis falsos negativos como falso positivo, porém não há certeza sobre esse fato, assim o toranado uma hipótese que poderia ser abordada para uma possível implementação do programa no futuro, com um maior database para testes \n",
    "\n",
    "Por fim concluimos que o progama de classificação Naive Bayers funciona, de forma precisa, possuindo uma alta taxa de classificações corretamente atribuidas aos tweets, Positivos Verdadeiros(55,5%),e Negativos Verdadeiros(39%), assim possuindo uma taxa de acerto em suas classificações de 94,5%.\n"
   ]
  },
  {
   "cell_type": "code",
   "execution_count": null,
   "metadata": {},
   "outputs": [],
   "source": []
  }
 ],
 "metadata": {
  "kernelspec": {
   "display_name": "Python 3",
   "language": "python",
   "name": "python3"
  },
  "language_info": {
   "codemirror_mode": {
    "name": "ipython",
    "version": 3
   },
   "file_extension": ".py",
   "mimetype": "text/x-python",
   "name": "python",
   "nbconvert_exporter": "python",
   "pygments_lexer": "ipython3",
   "version": "3.7.3"
  }
 },
 "nbformat": 4,
 "nbformat_minor": 4
}
